{
 "cells": [
  {
   "cell_type": "markdown",
   "metadata": {},
   "source": [
    "# Working with files"
   ]
  },
  {
   "cell_type": "code",
   "execution_count": 2,
   "metadata": {
    "scrolled": true
   },
   "outputs": [
    {
     "name": "stdout",
     "output_type": "stream",
     "text": [
      "def print_hello():\n",
      "    \"\"\"Just print hello\"\"\"\n",
      "    print('Hello, world!')\n",
      "\n",
      "def print2():\n",
      "    pass\n",
      "\n",
      "def print3():\n",
      "    pass\n",
      "    Hello, world!\n"
     ]
    }
   ],
   "source": [
    "!cat hello.py\n",
    "print('Hello, world!')"
   ]
  },
  {
   "cell_type": "code",
   "execution_count": 8,
   "metadata": {},
   "outputs": [
    {
     "name": "stdout",
     "output_type": "stream",
     "text": [
      "import hello\r\n",
      "from hello import print_hello\r\n",
      "import hello as h\r\n",
      "import math as m\r\n",
      "\r\n",
      "# similar to math.pi\r\n",
      "hello.print_hello()\r\n",
      "print_hello()\r\n",
      "h.print_hello()\r\n",
      "print(m.pi)"
     ]
    }
   ],
   "source": [
    "!cat use.py"
   ]
  },
  {
   "cell_type": "code",
   "execution_count": 7,
   "metadata": {
    "scrolled": false
   },
   "outputs": [
    {
     "name": "stdout",
     "output_type": "stream",
     "text": [
      "Hello, world!\r\n",
      "Hello, world!\r\n",
      "Hello, world!\r\n",
      "3.14159265359\r\n"
     ]
    }
   ],
   "source": [
    "!python use.py"
   ]
  },
  {
   "cell_type": "code",
   "execution_count": 9,
   "metadata": {},
   "outputs": [
    {
     "name": "stdout",
     "output_type": "stream",
     "text": [
      "\"\"\"Add one to command line input\"\"\"\r\n",
      "\r\n",
      "import sys\r\n",
      "\r\n",
      "def add_one(x):\r\n",
      "    return x + 1\r\n",
      "\r\n",
      "if __name__ == '__main__':\r\n",
      "    number = int(sys.argv[1])\r\n",
      "    result = add_one(number)\r\n",
      "    print(result)\r\n"
     ]
    }
   ],
   "source": [
    "!cat add.py"
   ]
  },
  {
   "cell_type": "code",
   "execution_count": 11,
   "metadata": {
    "scrolled": true
   },
   "outputs": [
    {
     "name": "stdout",
     "output_type": "stream",
     "text": [
      "Traceback (most recent call last):\r\n",
      "  File \"add.py\", line 9, in <module>\r\n",
      "    number = int(sys.argv[1])\r\n",
      "IndexError: list index out of range\r\n"
     ]
    }
   ],
   "source": [
    "!python add.py"
   ]
  },
  {
   "cell_type": "code",
   "execution_count": 12,
   "metadata": {},
   "outputs": [
    {
     "name": "stdout",
     "output_type": "stream",
     "text": [
      "3\r\n"
     ]
    }
   ],
   "source": [
    "!python add.py 2"
   ]
  },
  {
   "cell_type": "markdown",
   "metadata": {},
   "source": [
    "# Reading files in custom format"
   ]
  },
  {
   "cell_type": "code",
   "execution_count": 14,
   "metadata": {},
   "outputs": [
    {
     "name": "stdout",
     "output_type": "stream",
     "text": [
      "123 = bread\r\n",
      "134 = rolls\r\n",
      "212 = milk\r\n",
      "213 = butter\r\n"
     ]
    }
   ],
   "source": [
    "!cat custom.txt"
   ]
  },
  {
   "cell_type": "code",
   "execution_count": 38,
   "metadata": {},
   "outputs": [
    {
     "name": "stdout",
     "output_type": "stream",
     "text": [
      "123 bread\n",
      "134 rolls\n",
      "212 milk\n",
      "213 butter\n"
     ]
    }
   ],
   "source": [
    "# open a file for reading and iterate each line\n",
    "with open('./custom.txt') as f:\n",
    "    for line in f:\n",
    "        # similar to line = \"123 = bread\\n\"\n",
    "        # assign to multiple variables (tuple unpacking)\n",
    "        id, name = line.strip().split(' = ')\n",
    "        print(id, name)"
   ]
  },
  {
   "cell_type": "markdown",
   "metadata": {},
   "source": [
    "## JSON files"
   ]
  },
  {
   "cell_type": "code",
   "execution_count": 16,
   "metadata": {},
   "outputs": [
    {
     "name": "stdout",
     "output_type": "stream",
     "text": [
      "{\r\n",
      "    \"123\": \"bread\",\r\n",
      "    \"134\": \"rolls\",\r\n",
      "    \"212\": \"milk\",\r\n",
      "    \"213\": \"butter\"\r\n",
      "}\r\n"
     ]
    }
   ],
   "source": [
    "!cat original.json"
   ]
  },
  {
   "cell_type": "code",
   "execution_count": 17,
   "metadata": {},
   "outputs": [],
   "source": [
    "\"\"\"Read and write JSON files\"\"\"\n",
    "\n",
    "import json\n",
    "\n",
    "with open('./original.json') as original, \\\n",
    "     open('./output.json', 'w') as output:\n",
    "    config = json.load(original)\n",
    "    config[\"133\"] = config[\"134\"]\n",
    "    del config[\"134\"]\n",
    "    json.dump(config, output)"
   ]
  },
  {
   "cell_type": "code",
   "execution_count": 18,
   "metadata": {},
   "outputs": [
    {
     "name": "stdout",
     "output_type": "stream",
     "text": [
      "{\"123\": \"bread\", \"212\": \"milk\", \"213\": \"butter\", \"133\": \"rolls\"}"
     ]
    }
   ],
   "source": [
    "!cat output.json"
   ]
  },
  {
   "cell_type": "markdown",
   "metadata": {},
   "source": [
    "# CSV files"
   ]
  },
  {
   "cell_type": "code",
   "execution_count": 19,
   "metadata": {},
   "outputs": [
    {
     "name": "stdout",
     "output_type": "stream",
     "text": [
      "id;name\r\n",
      "123;bread\r\n",
      "134;rolls\r\n",
      "212;milk\r\n",
      "213;butter\r\n"
     ]
    }
   ],
   "source": [
    "!cat original.csv"
   ]
  },
  {
   "cell_type": "code",
   "execution_count": 21,
   "metadata": {},
   "outputs": [
    {
     "name": "stdout",
     "output_type": "stream",
     "text": [
      "\"\"\"Work with CSV files in normal Python\"\"\"\r\n",
      "\r\n",
      "import csv\r\n",
      "\r\n",
      "with open('./original.csv') as file:\r\n",
      "    reader_object = csv.reader(file, delimiter=\";\")\r\n",
      "    all_rows = list(reader_object)\r\n",
      "\r\n",
      "with open('./output.csv', 'w', newline='') as output:\r\n",
      "    writer_object = csv.writer(output)\r\n",
      "    for line in all_rows:\r\n",
      "        writer_object.writerow(line)\r\n",
      "\r\n",
      "\r\n",
      "# for id, name in all_rows:\r\n",
      "#     print(id, name)\r\n"
     ]
    }
   ],
   "source": [
    "!cat csv-simple.py"
   ]
  },
  {
   "cell_type": "code",
   "execution_count": 22,
   "metadata": {},
   "outputs": [
    {
     "name": "stdout",
     "output_type": "stream",
     "text": [
      "id,name\r\n",
      "123,bread\r\n",
      "134,rolls\r\n",
      "212,milk\r\n",
      "213,butter\r\n"
     ]
    }
   ],
   "source": [
    "!cat output.csv"
   ]
  }
 ],
 "metadata": {
  "kernelspec": {
   "display_name": "Python 3",
   "language": "python",
   "name": "python3"
  },
  "language_info": {
   "codemirror_mode": {
    "name": "ipython",
    "version": 3
   },
   "file_extension": ".py",
   "mimetype": "text/x-python",
   "name": "python",
   "nbconvert_exporter": "python",
   "pygments_lexer": "ipython3",
   "version": "3.7.3"
  }
 },
 "nbformat": 4,
 "nbformat_minor": 2
}
